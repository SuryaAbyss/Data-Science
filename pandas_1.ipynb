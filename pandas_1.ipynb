{
  "nbformat": 4,
  "nbformat_minor": 0,
  "metadata": {
    "colab": {
      "provenance": [],
      "authorship_tag": "ABX9TyMxTeHdhQV/kchGLSFbFnvz",
      "include_colab_link": true
    },
    "kernelspec": {
      "name": "python3",
      "display_name": "Python 3"
    },
    "language_info": {
      "name": "python"
    }
  },
  "cells": [
    {
      "cell_type": "markdown",
      "metadata": {
        "id": "view-in-github",
        "colab_type": "text"
      },
      "source": [
        "<a href=\"https://colab.research.google.com/github/SuryaAbyss/Web_Dev/blob/main/pandas_1.ipynb\" target=\"_parent\"><img src=\"https://colab.research.google.com/assets/colab-badge.svg\" alt=\"Open In Colab\"/></a>"
      ]
    },
    {
      "cell_type": "markdown",
      "source": [
        " # Pandas\n",
        "\n",
        " * it is a python Library that is used\n",
        "while you are working with the datasets.\n",
        "\n",
        "* it's has functctions like\n",
        "1.Analyze\n",
        "2.Cleaning\n",
        "3.Explore\n",
        "4.Manipulation\n",
        "\n",
        "* Why to use Pandas\n",
        "** Becz it allows to analyze big data\n",
        "** It is also used to clean messy datasets and then make it readable and relevant\n",
        "\n",
        "Data sets - Multiple Rows AnD Column\n",
        "Datapoint- Particular Row\n",
        "\n"
      ],
      "metadata": {
        "id": "N54qxKofGNgu"
      }
    },
    {
      "cell_type": "code",
      "source": [
        "import pandas as pd"
      ],
      "metadata": {
        "id": "7Qv1W90V7MWf"
      },
      "execution_count": null,
      "outputs": []
    },
    {
      "cell_type": "code",
      "source": [
        "pd.__version__"
      ],
      "metadata": {
        "colab": {
          "base_uri": "https://localhost:8080/",
          "height": 36
        },
        "id": "GomDLYIy7MeV",
        "outputId": "84057b70-1095-4a22-e0fe-3f608c311633"
      },
      "execution_count": null,
      "outputs": [
        {
          "output_type": "execute_result",
          "data": {
            "text/plain": [
              "'2.0.3'"
            ],
            "application/vnd.google.colaboratory.intrinsic+json": {
              "type": "string"
            }
          },
          "metadata": {},
          "execution_count": 4
        }
      ]
    },
    {
      "cell_type": "markdown",
      "source": [
        "# Pandas Data Structure\n",
        "\n",
        "1. Series\n",
        "2. DataFrame\n",
        "3. Panel\n",
        "\n",
        "Pnadas DS are very Fast becz the Ds are build on the top of Numpy\n",
        "\n",
        "* DS           DIMENSION\n",
        "* -------------------------\n",
        "* Series      1-Column\n",
        "* DataFrame   2-Rows And Column\n",
        "* Panel       3"
      ],
      "metadata": {
        "id": "LhSUXNHiJpA3"
      }
    },
    {
      "cell_type": "code",
      "source": [
        "import numpy as np"
      ],
      "metadata": {
        "id": "9pQKKSJ37Mjv"
      },
      "execution_count": null,
      "outputs": []
    },
    {
      "cell_type": "markdown",
      "source": [
        "# Series -CRUD OPERATION\n",
        "1. It is like 1D array\n",
        "2. [1,2,3,4,5,6,7,8]  -> Column\n",
        "\n",
        "* SYNTAX : pd.series(data, index, dtype)"
      ],
      "metadata": {
        "id": "Zcdh_tsWLIez"
      }
    },
    {
      "cell_type": "code",
      "source": [
        "s = pd.Series() #empty Series"
      ],
      "metadata": {
        "id": "T60ybb6HL8s1"
      },
      "execution_count": null,
      "outputs": []
    },
    {
      "cell_type": "code",
      "source": [
        "s"
      ],
      "metadata": {
        "colab": {
          "base_uri": "https://localhost:8080/"
        },
        "id": "wiRXey3TL8vT",
        "outputId": "9a8eb1f4-04af-4fb0-f3a8-126ef2703d13"
      },
      "execution_count": null,
      "outputs": [
        {
          "output_type": "execute_result",
          "data": {
            "text/plain": [
              "Series([], dtype: object)"
            ]
          },
          "metadata": {},
          "execution_count": 6
        }
      ]
    },
    {
      "cell_type": "code",
      "source": [
        "#data = np.array([])\n",
        "#s=pd.Series(data)    SYNTAX"
      ],
      "metadata": {
        "id": "bQYdFVBC9dln"
      },
      "execution_count": null,
      "outputs": []
    },
    {
      "cell_type": "code",
      "source": [
        "data = np.array([14,18,45,7])     #Series using ndarray\n",
        "s=pd.Series(data)"
      ],
      "metadata": {
        "id": "K4WGuexqL8xw"
      },
      "execution_count": null,
      "outputs": []
    },
    {
      "cell_type": "code",
      "source": [
        "s"
      ],
      "metadata": {
        "colab": {
          "base_uri": "https://localhost:8080/"
        },
        "id": "CfQdseZBL80H",
        "outputId": "c4ab6883-607a-4fa7-9109-d9aae8ddc671"
      },
      "execution_count": null,
      "outputs": [
        {
          "output_type": "execute_result",
          "data": {
            "text/plain": [
              "0    14\n",
              "1    18\n",
              "2    45\n",
              "3     7\n",
              "dtype: int64"
            ]
          },
          "metadata": {},
          "execution_count": 11
        }
      ]
    },
    {
      "cell_type": "code",
      "source": [
        "data = np.array([14,18,45,7])     #Specific indexing\n",
        "s=pd.Series(data,index = [100,101,102,103])"
      ],
      "metadata": {
        "id": "z5xA6egyNQP4"
      },
      "execution_count": null,
      "outputs": []
    },
    {
      "cell_type": "code",
      "source": [
        "s"
      ],
      "metadata": {
        "colab": {
          "base_uri": "https://localhost:8080/"
        },
        "id": "x40BE2MFL89t",
        "outputId": "e5ba13c6-ac68-4568-fca5-e6cfd624ac27"
      },
      "execution_count": null,
      "outputs": [
        {
          "output_type": "execute_result",
          "data": {
            "text/plain": [
              "100    14\n",
              "101    18\n",
              "102    45\n",
              "103     7\n",
              "dtype: int64"
            ]
          },
          "metadata": {},
          "execution_count": 13
        }
      ]
    },
    {
      "cell_type": "code",
      "source": [
        "#Creating a series using Dictionary"
      ],
      "metadata": {
        "id": "pFwdcbkYNeKZ"
      },
      "execution_count": null,
      "outputs": []
    },
    {
      "cell_type": "code",
      "source": [
        "data = {\"a\":11,\"b\":99,\"c\":66,\"d\":33}\n",
        "s=pd.Series(data) #here keys of dict bcomes index"
      ],
      "metadata": {
        "id": "TvQvcV8MNeVz"
      },
      "execution_count": null,
      "outputs": []
    },
    {
      "cell_type": "code",
      "source": [
        "s"
      ],
      "metadata": {
        "colab": {
          "base_uri": "https://localhost:8080/"
        },
        "id": "wPGU2Di-Nebk",
        "outputId": "d34e0b9f-316e-46fb-a5db-27c44edbbb9b"
      },
      "execution_count": null,
      "outputs": [
        {
          "output_type": "execute_result",
          "data": {
            "text/plain": [
              "a    11\n",
              "b    99\n",
              "c    66\n",
              "d    33\n",
              "dtype: int64"
            ]
          },
          "metadata": {},
          "execution_count": 15
        }
      ]
    },
    {
      "cell_type": "code",
      "source": [
        "data = {\"a\":11,\"b\":99,\"c\":66,\"d\":33}\n",
        "s=pd.Series(data,index = [\"e\",\"d\",\"f\",\"a\",\"b\",\"v\",\"c\"]) #here keys of dict bcomes index"
      ],
      "metadata": {
        "id": "RoFfLktGNeeJ"
      },
      "execution_count": null,
      "outputs": []
    },
    {
      "cell_type": "code",
      "source": [
        "s"
      ],
      "metadata": {
        "colab": {
          "base_uri": "https://localhost:8080/"
        },
        "id": "wlzor4MANeg5",
        "outputId": "48453324-2a8b-412f-b68c-d151b1f65552"
      },
      "execution_count": null,
      "outputs": [
        {
          "output_type": "execute_result",
          "data": {
            "text/plain": [
              "e     NaN\n",
              "d    33.0\n",
              "f     NaN\n",
              "a    11.0\n",
              "b    99.0\n",
              "v     NaN\n",
              "c    66.0\n",
              "dtype: float64"
            ]
          },
          "metadata": {},
          "execution_count": 20
        }
      ]
    },
    {
      "cell_type": "code",
      "source": [
        "data = 11\n",
        "s=pd.Series(data,index =[101,102,103,104])"
      ],
      "metadata": {
        "id": "ebycIh0GNei_"
      },
      "execution_count": null,
      "outputs": []
    },
    {
      "cell_type": "code",
      "source": [
        "s"
      ],
      "metadata": {
        "colab": {
          "base_uri": "https://localhost:8080/"
        },
        "id": "O1FqgQQSPZ2G",
        "outputId": "d1987f6f-9355-43e4-f357-8de60a2ffd85"
      },
      "execution_count": null,
      "outputs": [
        {
          "output_type": "execute_result",
          "data": {
            "text/plain": [
              "101    11\n",
              "102    11\n",
              "103    11\n",
              "104    11\n",
              "dtype: int64"
            ]
          },
          "metadata": {},
          "execution_count": 22
        }
      ]
    },
    {
      "cell_type": "code",
      "source": [
        "#U updation --> Accessing the data from the pandas"
      ],
      "metadata": {
        "id": "P_lskFo-PZ7A"
      },
      "execution_count": null,
      "outputs": []
    },
    {
      "cell_type": "code",
      "source": [
        "data = np.array([12,18,-9,4,3,-1,-3,9.0,7,-5])\n",
        "s = pd.Series(data)"
      ],
      "metadata": {
        "id": "foEjUMbGPxol"
      },
      "execution_count": null,
      "outputs": []
    },
    {
      "cell_type": "code",
      "source": [
        "s"
      ],
      "metadata": {
        "colab": {
          "base_uri": "https://localhost:8080/"
        },
        "id": "3ukB4l1NQeq-",
        "outputId": "b40b5cc4-20d3-4907-bafd-23701ba8431e"
      },
      "execution_count": null,
      "outputs": [
        {
          "output_type": "execute_result",
          "data": {
            "text/plain": [
              "0    12.0\n",
              "1    18.0\n",
              "2    -9.0\n",
              "3     4.0\n",
              "4     3.0\n",
              "5    -1.0\n",
              "6    -3.0\n",
              "7     9.0\n",
              "8     7.0\n",
              "9    -5.0\n",
              "dtype: float64"
            ]
          },
          "metadata": {},
          "execution_count": 28
        }
      ]
    },
    {
      "cell_type": "code",
      "source": [
        "s[4]"
      ],
      "metadata": {
        "colab": {
          "base_uri": "https://localhost:8080/"
        },
        "id": "CUCdFsXOQgks",
        "outputId": "9122fa6c-232d-4605-9857-13453a9b8b5b"
      },
      "execution_count": null,
      "outputs": [
        {
          "output_type": "execute_result",
          "data": {
            "text/plain": [
              "3.0"
            ]
          },
          "metadata": {},
          "execution_count": 29
        }
      ]
    },
    {
      "cell_type": "code",
      "source": [
        "s[0:3]"
      ],
      "metadata": {
        "colab": {
          "base_uri": "https://localhost:8080/"
        },
        "id": "tJTroaePQgsP",
        "outputId": "b537d18c-18fe-47f2-a1bc-2db864a7d3cc"
      },
      "execution_count": null,
      "outputs": [
        {
          "output_type": "execute_result",
          "data": {
            "text/plain": [
              "0    12.0\n",
              "1    18.0\n",
              "2    -9.0\n",
              "dtype: float64"
            ]
          },
          "metadata": {},
          "execution_count": 30
        }
      ]
    },
    {
      "cell_type": "code",
      "source": [
        "s[7:]"
      ],
      "metadata": {
        "colab": {
          "base_uri": "https://localhost:8080/"
        },
        "id": "TAHao2BwQguu",
        "outputId": "575a6ff2-0895-4a20-d1a9-a3a1fa98e5c0"
      },
      "execution_count": null,
      "outputs": [
        {
          "output_type": "execute_result",
          "data": {
            "text/plain": [
              "7    9.0\n",
              "8    7.0\n",
              "9   -5.0\n",
              "dtype: float64"
            ]
          },
          "metadata": {},
          "execution_count": 31
        }
      ]
    },
    {
      "cell_type": "code",
      "source": [
        "data = {\"a\":11,\"b\":99,\"c\":66,\"d\":33}\n",
        "s=pd.Series(data,index = [\"d\",\"a\",\"b\",\"c\",\"v\"])"
      ],
      "metadata": {
        "id": "1SYVUaRhQgxR"
      },
      "execution_count": null,
      "outputs": []
    },
    {
      "cell_type": "code",
      "source": [
        "s[[\"c\",'d']]"
      ],
      "metadata": {
        "colab": {
          "base_uri": "https://localhost:8080/"
        },
        "id": "lmdynn_JQgzu",
        "outputId": "34f08b2b-6545-42ea-8f7d-cb3182d3c854"
      },
      "execution_count": null,
      "outputs": [
        {
          "output_type": "execute_result",
          "data": {
            "text/plain": [
              "c    66\n",
              "d    33\n",
              "dtype: int64"
            ]
          },
          "metadata": {},
          "execution_count": 38
        }
      ]
    },
    {
      "cell_type": "code",
      "source": [
        "s\n"
      ],
      "metadata": {
        "colab": {
          "base_uri": "https://localhost:8080/"
        },
        "id": "0_R_1nItQg2E",
        "outputId": "63dfb1a5-2154-4549-bd85-87ae980f467e"
      },
      "execution_count": null,
      "outputs": [
        {
          "output_type": "execute_result",
          "data": {
            "text/plain": [
              "d    33.0\n",
              "a    11.0\n",
              "b    99.0\n",
              "c    66.0\n",
              "v     NaN\n",
              "dtype: float64"
            ]
          },
          "metadata": {},
          "execution_count": 40
        }
      ]
    },
    {
      "cell_type": "code",
      "source": [
        "s['v'] = 19.3"
      ],
      "metadata": {
        "id": "cmQzIXoQT8mp"
      },
      "execution_count": null,
      "outputs": []
    },
    {
      "cell_type": "code",
      "source": [
        "s"
      ],
      "metadata": {
        "colab": {
          "base_uri": "https://localhost:8080/"
        },
        "id": "cGz5pbabT8pW",
        "outputId": "8cf3daab-5b94-487f-fe84-d1c180e030f8"
      },
      "execution_count": null,
      "outputs": [
        {
          "output_type": "execute_result",
          "data": {
            "text/plain": [
              "d    33.0\n",
              "a    11.0\n",
              "b    99.0\n",
              "c    66.0\n",
              "v    19.3\n",
              "dtype: float64"
            ]
          },
          "metadata": {},
          "execution_count": 43
        }
      ]
    },
    {
      "cell_type": "code",
      "source": [
        "#Boolean Masking\n",
        "# 0 - False\n",
        "# 1 - True\n",
        "s>50"
      ],
      "metadata": {
        "colab": {
          "base_uri": "https://localhost:8080/"
        },
        "id": "d5q8IQmYT8rg",
        "outputId": "b19d1d91-00bb-4f86-d122-c5a8a7ae1edb"
      },
      "execution_count": null,
      "outputs": [
        {
          "output_type": "execute_result",
          "data": {
            "text/plain": [
              "d    False\n",
              "a    False\n",
              "b     True\n",
              "c     True\n",
              "v    False\n",
              "dtype: bool"
            ]
          },
          "metadata": {},
          "execution_count": 44
        }
      ]
    },
    {
      "cell_type": "code",
      "source": [
        "s[s>90]"
      ],
      "metadata": {
        "colab": {
          "base_uri": "https://localhost:8080/"
        },
        "id": "n94jtDZ4T8uL",
        "outputId": "08671e92-79a2-43cf-881c-fcf9207d38e1"
      },
      "execution_count": null,
      "outputs": [
        {
          "output_type": "execute_result",
          "data": {
            "text/plain": [
              "b    99.0\n",
              "dtype: float64"
            ]
          },
          "metadata": {},
          "execution_count": 45
        }
      ]
    },
    {
      "cell_type": "code",
      "source": [
        "#task\n",
        "s[s>90]  [s==11]"
      ],
      "metadata": {
        "colab": {
          "base_uri": "https://localhost:8080/"
        },
        "id": "TW7q8tnNT8wg",
        "outputId": "14059e64-76f9-49d9-e2d4-298f31277f4c"
      },
      "execution_count": null,
      "outputs": [
        {
          "output_type": "execute_result",
          "data": {
            "text/plain": [
              "Series([], dtype: float64)"
            ]
          },
          "metadata": {},
          "execution_count": 53
        }
      ]
    },
    {
      "cell_type": "code",
      "source": [
        "s"
      ],
      "metadata": {
        "colab": {
          "base_uri": "https://localhost:8080/"
        },
        "id": "4CbdhHTvT8zA",
        "outputId": "74e45a71-5f3c-4a00-c1b9-fda612ff51a6"
      },
      "execution_count": null,
      "outputs": [
        {
          "output_type": "execute_result",
          "data": {
            "text/plain": [
              "d    33.0\n",
              "a    11.0\n",
              "b    99.0\n",
              "c    66.0\n",
              "v     NaN\n",
              "dtype: float64"
            ]
          },
          "metadata": {},
          "execution_count": 54
        }
      ]
    },
    {
      "cell_type": "code",
      "source": [
        "s.shape"
      ],
      "metadata": {
        "colab": {
          "base_uri": "https://localhost:8080/"
        },
        "id": "NJpE1UpOT81m",
        "outputId": "0f11259a-b982-40eb-dd6f-347bff04834d"
      },
      "execution_count": null,
      "outputs": [
        {
          "output_type": "execute_result",
          "data": {
            "text/plain": [
              "(5,)"
            ]
          },
          "metadata": {},
          "execution_count": 55
        }
      ]
    },
    {
      "cell_type": "code",
      "source": [
        "s.ndim"
      ],
      "metadata": {
        "colab": {
          "base_uri": "https://localhost:8080/"
        },
        "id": "hJQFIbgTT84L",
        "outputId": "1abeb506-b244-4c8a-c3d3-5ef84cb59c7a"
      },
      "execution_count": null,
      "outputs": [
        {
          "output_type": "execute_result",
          "data": {
            "text/plain": [
              "1"
            ]
          },
          "metadata": {},
          "execution_count": 56
        }
      ]
    },
    {
      "cell_type": "code",
      "source": [
        "s.size"
      ],
      "metadata": {
        "colab": {
          "base_uri": "https://localhost:8080/"
        },
        "id": "b1GTiFWcZru8",
        "outputId": "e9ba683b-8f01-42d1-8d3e-b17cb75ef3d5"
      },
      "execution_count": null,
      "outputs": [
        {
          "output_type": "execute_result",
          "data": {
            "text/plain": [
              "5"
            ]
          },
          "metadata": {},
          "execution_count": 57
        }
      ]
    },
    {
      "cell_type": "code",
      "source": [
        "s.index"
      ],
      "metadata": {
        "colab": {
          "base_uri": "https://localhost:8080/"
        },
        "id": "oU_VzpQeZr2E",
        "outputId": "f8735b83-931b-495d-8e70-b9ea4cfe941e"
      },
      "execution_count": null,
      "outputs": [
        {
          "output_type": "execute_result",
          "data": {
            "text/plain": [
              "Index(['d', 'a', 'b', 'c', 'v'], dtype='object')"
            ]
          },
          "metadata": {},
          "execution_count": 58
        }
      ]
    },
    {
      "cell_type": "code",
      "source": [
        "s.values"
      ],
      "metadata": {
        "colab": {
          "base_uri": "https://localhost:8080/"
        },
        "id": "5YOmNkWhZr5V",
        "outputId": "b0a52d06-1a7f-43c0-ccf7-f3d3badf263c"
      },
      "execution_count": null,
      "outputs": [
        {
          "output_type": "execute_result",
          "data": {
            "text/plain": [
              "array([33., 11., 99., 66., nan])"
            ]
          },
          "metadata": {},
          "execution_count": 59
        }
      ]
    },
    {
      "cell_type": "code",
      "source": [
        "#Delete"
      ],
      "metadata": {
        "id": "89xizNo4Zr7e"
      },
      "execution_count": null,
      "outputs": []
    },
    {
      "cell_type": "code",
      "source": [
        "s.drop('a') #temp delete"
      ],
      "metadata": {
        "colab": {
          "base_uri": "https://localhost:8080/"
        },
        "id": "qfWWiQNjaDnO",
        "outputId": "c6edbfc7-d88f-44bd-896a-6aab9feed6f2"
      },
      "execution_count": null,
      "outputs": [
        {
          "output_type": "execute_result",
          "data": {
            "text/plain": [
              "d    33.0\n",
              "b    99.0\n",
              "c    66.0\n",
              "v     NaN\n",
              "dtype: float64"
            ]
          },
          "metadata": {},
          "execution_count": 61
        }
      ]
    },
    {
      "cell_type": "code",
      "source": [
        "s"
      ],
      "metadata": {
        "colab": {
          "base_uri": "https://localhost:8080/"
        },
        "id": "HCSvD3hlaDp8",
        "outputId": "75ec419e-bd02-438b-b5b3-86ea0e3f343a"
      },
      "execution_count": null,
      "outputs": [
        {
          "output_type": "execute_result",
          "data": {
            "text/plain": [
              "d    33.0\n",
              "a    11.0\n",
              "b    99.0\n",
              "c    66.0\n",
              "v     NaN\n",
              "dtype: float64"
            ]
          },
          "metadata": {},
          "execution_count": 62
        }
      ]
    },
    {
      "cell_type": "code",
      "source": [
        "s.drop('a',inplace=True)  #permanent delete"
      ],
      "metadata": {
        "id": "348F97QWaDuy"
      },
      "execution_count": null,
      "outputs": []
    },
    {
      "cell_type": "code",
      "source": [
        "s"
      ],
      "metadata": {
        "colab": {
          "base_uri": "https://localhost:8080/"
        },
        "id": "RM7Vobz1aD5p",
        "outputId": "9c1eed96-0e05-4c19-d365-9bbb934ff514"
      },
      "execution_count": null,
      "outputs": [
        {
          "output_type": "execute_result",
          "data": {
            "text/plain": [
              "d    33.0\n",
              "b    99.0\n",
              "c    66.0\n",
              "v     NaN\n",
              "dtype: float64"
            ]
          },
          "metadata": {},
          "execution_count": 64
        }
      ]
    },
    {
      "cell_type": "code",
      "source": [
        "s.drop(['c','d'])"
      ],
      "metadata": {
        "colab": {
          "base_uri": "https://localhost:8080/"
        },
        "id": "1U1z7x5Pb6Un",
        "outputId": "154047e8-5e05-4b24-f353-5c6d822e02c0"
      },
      "execution_count": null,
      "outputs": [
        {
          "output_type": "execute_result",
          "data": {
            "text/plain": [
              "b    99.0\n",
              "v     NaN\n",
              "dtype: float64"
            ]
          },
          "metadata": {},
          "execution_count": 65
        }
      ]
    },
    {
      "cell_type": "code",
      "source": [
        "s+2"
      ],
      "metadata": {
        "colab": {
          "base_uri": "https://localhost:8080/"
        },
        "id": "JekIHWpxb6X6",
        "outputId": "f9d62d2a-c555-411c-b0a5-fcc8441ba066"
      },
      "execution_count": null,
      "outputs": [
        {
          "output_type": "execute_result",
          "data": {
            "text/plain": [
              "d     35.0\n",
              "b    101.0\n",
              "c     68.0\n",
              "v      NaN\n",
              "dtype: float64"
            ]
          },
          "metadata": {},
          "execution_count": 66
        }
      ]
    },
    {
      "cell_type": "code",
      "source": [
        "s-2"
      ],
      "metadata": {
        "colab": {
          "base_uri": "https://localhost:8080/"
        },
        "id": "n-77EBfNb6av",
        "outputId": "98ae75bb-1f03-43c1-958f-8c580d78bfa5"
      },
      "execution_count": null,
      "outputs": [
        {
          "output_type": "execute_result",
          "data": {
            "text/plain": [
              "d    31.0\n",
              "b    97.0\n",
              "c    64.0\n",
              "v     NaN\n",
              "dtype: float64"
            ]
          },
          "metadata": {},
          "execution_count": 67
        }
      ]
    },
    {
      "cell_type": "code",
      "source": [],
      "metadata": {
        "id": "0sZ2iv2nb6d7"
      },
      "execution_count": null,
      "outputs": []
    }
  ]
}