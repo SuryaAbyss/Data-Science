{
  "nbformat": 4,
  "nbformat_minor": 0,
  "metadata": {
    "colab": {
      "provenance": [],
      "authorship_tag": "ABX9TyPJadj+EUg91DH7JtjlThDr",
      "include_colab_link": true
    },
    "kernelspec": {
      "name": "python3",
      "display_name": "Python 3"
    },
    "language_info": {
      "name": "python"
    }
  },
  "cells": [
    {
      "cell_type": "markdown",
      "metadata": {
        "id": "view-in-github",
        "colab_type": "text"
      },
      "source": [
        "<a href=\"https://colab.research.google.com/github/SuryaAbyss/Web_Dev/blob/main/RegularExpression.ipynb\" target=\"_parent\"><img src=\"https://colab.research.google.com/assets/colab-badge.svg\" alt=\"Open In Colab\"/></a>"
      ]
    },
    {
      "cell_type": "code",
      "source": [
        "stri1 = re.search('^on',stri)\n",
        "if stri1:\n",
        "  print(\"Matched\")\n",
        "else:\n",
        "  print(\"Not Matched\")\n",
        "\n",
        "#pattern is work to do ,from which area the work to do\n",
        "#(^) means starts with"
      ],
      "metadata": {
        "colab": {
          "base_uri": "https://localhost:8080/"
        },
        "outputId": "004db307-22e4-4f9c-d879-555e43b9e294",
        "id": "D6OErXNA0W2w"
      },
      "execution_count": null,
      "outputs": [
        {
          "output_type": "stream",
          "name": "stdout",
          "text": [
            "Not Matched\n"
          ]
        }
      ]
    },
    {
      "cell_type": "code",
      "execution_count": null,
      "metadata": {
        "id": "N4Ts2g-rs8EK"
      },
      "outputs": [],
      "source": [
        "import re"
      ]
    },
    {
      "cell_type": "code",
      "source": [
        "stri = ''' i was very busy on Saturday and then i got a new gift\n",
        "by my house with number 894-7533087831 and 991-9874562310'''"
      ],
      "metadata": {
        "id": "K7jnSreBtDgw"
      },
      "execution_count": null,
      "outputs": []
    },
    {
      "cell_type": "code",
      "source": [
        "stri"
      ],
      "metadata": {
        "colab": {
          "base_uri": "https://localhost:8080/",
          "height": 36
        },
        "id": "s3pc3jZhtDoT",
        "outputId": "06710ad4-5918-4b84-f9ef-094445282770"
      },
      "execution_count": null,
      "outputs": [
        {
          "output_type": "execute_result",
          "data": {
            "text/plain": [
              "' i was very busy on Saturday and then i got a new gift \\nby my house with number 894-7533087831 and 991-9874562310'"
            ],
            "application/vnd.google.colaboratory.intrinsic+json": {
              "type": "string"
            }
          },
          "metadata": {},
          "execution_count": 42
        }
      ]
    },
    {
      "cell_type": "code",
      "source": [
        "number = re.findall('894-753308678',stri)"
      ],
      "metadata": {
        "id": "8X-PgtLMtDq-"
      },
      "execution_count": null,
      "outputs": []
    },
    {
      "cell_type": "code",
      "source": [
        "number"
      ],
      "metadata": {
        "colab": {
          "base_uri": "https://localhost:8080/"
        },
        "id": "bZGvKbfQt2_u",
        "outputId": "c22fede6-c3ca-49f4-a4b1-2c9742cc678b"
      },
      "execution_count": null,
      "outputs": [
        {
          "output_type": "execute_result",
          "data": {
            "text/plain": [
              "[]"
            ]
          },
          "metadata": {},
          "execution_count": 37
        }
      ]
    },
    {
      "cell_type": "code",
      "source": [
        "number = re.findall('\\d+',stri)\n",
        "# d--> digit\n",
        "#\\d --> single digit\n",
        "#\\d+ --> all digit continious\n",
        "#we ac print a single number only by this \\d+ but if their are\n",
        "#more than one so we have to see the pattern and use like \\d{3}-\\d{10}}"
      ],
      "metadata": {
        "id": "wNE8K_yAtDtk"
      },
      "execution_count": null,
      "outputs": []
    },
    {
      "cell_type": "code",
      "source": [
        "number"
      ],
      "metadata": {
        "colab": {
          "base_uri": "https://localhost:8080/"
        },
        "id": "d8R88gX3tDwc",
        "outputId": "b5f8f5c6-b83d-47e4-aa5e-1b1970adf4ef"
      },
      "execution_count": null,
      "outputs": [
        {
          "output_type": "execute_result",
          "data": {
            "text/plain": [
              "['894', '7533087831', '991', '9874562310']"
            ]
          },
          "metadata": {},
          "execution_count": 47
        }
      ]
    },
    {
      "cell_type": "code",
      "source": [
        "number = re.findall('\\d{3}-\\d{10}',stri)\n"
      ],
      "metadata": {
        "id": "mzW8MptutDzQ"
      },
      "execution_count": null,
      "outputs": []
    },
    {
      "cell_type": "code",
      "source": [
        "number"
      ],
      "metadata": {
        "colab": {
          "base_uri": "https://localhost:8080/"
        },
        "id": "hcbkwEq5tD2N",
        "outputId": "d8ddc00e-0ae2-4234-a298-699a8446f7b9"
      },
      "execution_count": null,
      "outputs": [
        {
          "output_type": "execute_result",
          "data": {
            "text/plain": [
              "['894-7533087831', '991-9874562310']"
            ]
          },
          "metadata": {},
          "execution_count": 49
        }
      ]
    },
    {
      "cell_type": "code",
      "source": [
        "stri1 = \"on Tuesday there is an chance of heavy rain-fall\""
      ],
      "metadata": {
        "id": "eGc6RXAMtD_H"
      },
      "execution_count": null,
      "outputs": []
    },
    {
      "cell_type": "code",
      "source": [
        "stri1"
      ],
      "metadata": {
        "colab": {
          "base_uri": "https://localhost:8080/",
          "height": 36
        },
        "id": "aU86j8wvtEKL",
        "outputId": "8ff70982-91a6-4853-8c08-505c269a45d4"
      },
      "execution_count": null,
      "outputs": [
        {
          "output_type": "execute_result",
          "data": {
            "text/plain": [
              "'on Tuesday there is an chance of heavy rain-fall'"
            ],
            "application/vnd.google.colaboratory.intrinsic+json": {
              "type": "string"
            }
          },
          "metadata": {},
          "execution_count": 67
        }
      ]
    },
    {
      "cell_type": "code",
      "source": [
        "match = re.search('^on', stri1)\n",
        "if stri1:\n",
        "  print(\"Matched\")\n",
        "else:\n",
        "  print(\"Not Matched\")\n",
        "\n",
        "#pattern is work to do ,from which area the work to do\n",
        "#(^) means starts with\n",
        "#search will search for the entire string"
      ],
      "metadata": {
        "colab": {
          "base_uri": "https://localhost:8080/"
        },
        "id": "Tinr_dgHy3Hq",
        "outputId": "5c37a949-edf1-4fd2-ed1c-ea45cebe896a"
      },
      "execution_count": null,
      "outputs": [
        {
          "output_type": "stream",
          "name": "stdout",
          "text": [
            "Matched\n"
          ]
        }
      ]
    },
    {
      "cell_type": "code",
      "source": [
        "stri2 = \"Dog is a pet animal also Duck And Dob\""
      ],
      "metadata": {
        "id": "lZ8Y-ciwy3Kw"
      },
      "execution_count": null,
      "outputs": []
    },
    {
      "cell_type": "code",
      "source": [
        "mat = re.match(\"D\\w\\w\",stri2)\n",
        "#match will search only the first Block/word"
      ],
      "metadata": {
        "id": "jCrcWFCoy3NL"
      },
      "execution_count": null,
      "outputs": []
    },
    {
      "cell_type": "code",
      "source": [
        "mat"
      ],
      "metadata": {
        "colab": {
          "base_uri": "https://localhost:8080/"
        },
        "id": "_h-iXxNjy3P1",
        "outputId": "57335b1f-05af-4656-cdfe-c18e40aef4d1"
      },
      "execution_count": null,
      "outputs": [
        {
          "output_type": "execute_result",
          "data": {
            "text/plain": [
              "<re.Match object; span=(0, 3), match='Dog'>"
            ]
          },
          "metadata": {},
          "execution_count": 75
        }
      ]
    },
    {
      "cell_type": "code",
      "source": [
        "mat.group()\n"
      ],
      "metadata": {
        "colab": {
          "base_uri": "https://localhost:8080/",
          "height": 36
        },
        "id": "t6bE56mJzUKz",
        "outputId": "372f0bd5-a94d-4083-c274-992b331a2811"
      },
      "execution_count": null,
      "outputs": [
        {
          "output_type": "execute_result",
          "data": {
            "text/plain": [
              "'Dog'"
            ],
            "application/vnd.google.colaboratory.intrinsic+json": {
              "type": "string"
            }
          },
          "metadata": {},
          "execution_count": 76
        }
      ]
    },
    {
      "cell_type": "code",
      "source": [
        "stri2"
      ],
      "metadata": {
        "colab": {
          "base_uri": "https://localhost:8080/",
          "height": 36
        },
        "id": "eBzf4BRy4kmn",
        "outputId": "a9837028-ce39-48fd-daf2-b814c1a7a4dc"
      },
      "execution_count": null,
      "outputs": [
        {
          "output_type": "execute_result",
          "data": {
            "text/plain": [
              "'Dog is a pet animal also Duck And Dob'"
            ],
            "application/vnd.google.colaboratory.intrinsic+json": {
              "type": "string"
            }
          },
          "metadata": {},
          "execution_count": 79
        }
      ]
    },
    {
      "cell_type": "code",
      "source": [
        "spli = re.split('\\s',stri2,2) #2 decides how much we have to split\n",
        "# \\d -> single digit\n",
        "# \\w -> single character -> A-Z/a-z/0-9\n",
        "# \\s -> Space"
      ],
      "metadata": {
        "id": "DQm93n4X4kqB"
      },
      "execution_count": null,
      "outputs": []
    },
    {
      "cell_type": "code",
      "source": [
        "spli"
      ],
      "metadata": {
        "colab": {
          "base_uri": "https://localhost:8080/"
        },
        "id": "vBiwHdel4ksr",
        "outputId": "c9f0708d-2730-4215-ce3d-a11d8b6bb1a2"
      },
      "execution_count": null,
      "outputs": [
        {
          "output_type": "execute_result",
          "data": {
            "text/plain": [
              "['Dog', 'is', 'a pet animal also Duck And Dob']"
            ]
          },
          "metadata": {},
          "execution_count": 85
        }
      ]
    },
    {
      "cell_type": "markdown",
      "source": [
        "\n",
        "\n",
        "```\n",
        "[# This is formatted as code](https:// [link text](https://))\n",
        "```\n",
        "\n",
        "# Sub-Replace"
      ],
      "metadata": {
        "id": "TZRw9mHR6qGb"
      }
    },
    {
      "cell_type": "code",
      "source": [
        "#SYNTAX re.sub(pattern,replaced pattern,strings)"
      ],
      "metadata": {
        "id": "01e9Bcg-4kx1"
      },
      "execution_count": null,
      "outputs": []
    },
    {
      "cell_type": "code",
      "source": [
        "stri3 = \"Football has many goats but Cricket has one Goat VK\""
      ],
      "metadata": {
        "id": "jwQU1n-74lFC"
      },
      "execution_count": null,
      "outputs": []
    },
    {
      "cell_type": "code",
      "source": [
        "re.sub(\"o\",\"e\",stri3)"
      ],
      "metadata": {
        "colab": {
          "base_uri": "https://localhost:8080/",
          "height": 36
        },
        "id": "X0e7bJvE7IQb",
        "outputId": "fbedb619-f90d-4cb4-bc6d-08d02870c02b"
      },
      "execution_count": null,
      "outputs": [
        {
          "output_type": "execute_result",
          "data": {
            "text/plain": [
              "'Feetball has many geats but Cricket has ene Geat VK'"
            ],
            "application/vnd.google.colaboratory.intrinsic+json": {
              "type": "string"
            }
          },
          "metadata": {},
          "execution_count": 87
        }
      ]
    },
    {
      "cell_type": "code",
      "source": [
        "stri3"
      ],
      "metadata": {
        "colab": {
          "base_uri": "https://localhost:8080/",
          "height": 36
        },
        "id": "--6omDk27ITG",
        "outputId": "f31c3e3c-4deb-4428-b5e9-02ba19f26f1d"
      },
      "execution_count": null,
      "outputs": [
        {
          "output_type": "execute_result",
          "data": {
            "text/plain": [
              "'Football has many goats but Cricket has one Goat VK'"
            ],
            "application/vnd.google.colaboratory.intrinsic+json": {
              "type": "string"
            }
          },
          "metadata": {},
          "execution_count": 88
        }
      ]
    },
    {
      "cell_type": "code",
      "source": [
        "#All We have read\n",
        "#1.findall\n",
        "#2.Search\n",
        "#3.Match\n",
        "#4.split\n",
        "#5.sub"
      ],
      "metadata": {
        "id": "RMBZwuye7IVq"
      },
      "execution_count": null,
      "outputs": []
    },
    {
      "cell_type": "markdown",
      "source": [
        "# Ends With $"
      ],
      "metadata": {
        "id": "yJ6R-Uzt8wiF"
      }
    },
    {
      "cell_type": "code",
      "source": [
        "stri3"
      ],
      "metadata": {
        "colab": {
          "base_uri": "https://localhost:8080/",
          "height": 36
        },
        "id": "as4WSppN7IYk",
        "outputId": "658ec3d1-940e-4af0-8387-ce3225a1ba32"
      },
      "execution_count": null,
      "outputs": [
        {
          "output_type": "execute_result",
          "data": {
            "text/plain": [
              "'Football has many goats but Cricket has one Goat VK'"
            ],
            "application/vnd.google.colaboratory.intrinsic+json": {
              "type": "string"
            }
          },
          "metadata": {},
          "execution_count": 90
        }
      ]
    },
    {
      "cell_type": "code",
      "source": [
        "asd = re.findall(\"VK$\",stri3)\n",
        "# ends with"
      ],
      "metadata": {
        "id": "tueMkF2r849N"
      },
      "execution_count": null,
      "outputs": []
    },
    {
      "cell_type": "code",
      "source": [
        "asd\n"
      ],
      "metadata": {
        "colab": {
          "base_uri": "https://localhost:8080/"
        },
        "id": "VyNu5bH-85Ib",
        "outputId": "4cb8858e-0b13-49a3-f574-beacd0bc6ac7"
      },
      "execution_count": null,
      "outputs": [
        {
          "output_type": "execute_result",
          "data": {
            "text/plain": [
              "['VK']"
            ]
          },
          "metadata": {},
          "execution_count": 92
        }
      ]
    },
    {
      "cell_type": "code",
      "source": [],
      "metadata": {
        "id": "3MyLfWvS85PB"
      },
      "execution_count": null,
      "outputs": []
    }
  ]
}